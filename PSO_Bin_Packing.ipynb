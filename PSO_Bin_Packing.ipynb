{
  "nbformat": 4,
  "nbformat_minor": 0,
  "metadata": {
    "colab": {
      "name": "Untitled3.ipynb",
      "provenance": [],
      "collapsed_sections": [],
      "authorship_tag": "ABX9TyPI7PHYglLSXOjXzvvwUAUq"
    },
    "kernelspec": {
      "name": "python3",
      "display_name": "Python 3"
    },
    "language_info": {
      "name": "python"
    }
  },
  "cells": [
    {
      "cell_type": "code",
      "metadata": {
        "id": "9rY04AxUOEIs"
      },
      "source": [
        "!pip install matplotlib\n",
        "!pip install deap\n",
        "!pip install numpy"
      ],
      "execution_count": null,
      "outputs": []
    },
    {
      "cell_type": "code",
      "metadata": {
        "id": "mMyJUf9ZRNWA"
      },
      "source": [
        "\n",
        "import math\n",
        "import numpy as np\n",
        "import matplotlib.path as mpath\n",
        "import matplotlib.patches as mpatches\n",
        "import operator\n",
        "import random\n",
        "import numpy\n",
        "\n",
        "from deap import base\n",
        "from deap import benchmarks\n",
        "from deap import creator\n",
        "from deap import tools\n"
      ],
      "execution_count": 15,
      "outputs": []
    },
    {
      "cell_type": "markdown",
      "metadata": {
        "id": "-UXNY_BfO5n8"
      },
      "source": [
        "Dibujar el hexagono que sera la region factible."
      ]
    },
    {
      "cell_type": "code",
      "metadata": {
        "id": "fOYUTNjFPZFU"
      },
      "source": [
        "\n",
        "\n",
        "def Paint(ax):        \n",
        "    \n",
        "    Path = mpath.Path\n",
        "    path_data = [\n",
        "        (Path.MOVETO, (311.8,-16.3)),\n",
        "        (Path.LINETO, (288.2,-16.3)),\n",
        "        (Path.LINETO, (280.9, 6.2)),\n",
        "        (Path.LINETO, (300,20.1)),\n",
        "        (Path.LINETO, (319.1,6.2)),\n",
        "        (Path.CLOSEPOLY, (311.8,-16.3)),\n",
        "        ]\n",
        "    codes, verts = zip(*path_data)\n",
        "    path = mpath.Path(verts, codes)\n",
        "    patch = mpatches.PathPatch(path, facecolor='r', alpha=0.5)\n",
        "    ax.add_patch(patch)\n",
        "    ax.axis('equal')\n",
        "\n",
        "\n",
        "\n",
        "points =((311.8,-16.3), (288.2,-16.3), (280.9, 6.2), (300,20.1),(319.1,6.2))\n",
        "\n",
        "\n",
        "\n"
      ],
      "execution_count": 16,
      "outputs": []
    },
    {
      "cell_type": "markdown",
      "metadata": {
        "id": "nI2IGoLkPmWH"
      },
      "source": [
        "Dibuja cada cuadrado y rectangulo valido dentro de la region factible."
      ]
    },
    {
      "cell_type": "code",
      "metadata": {
        "id": "vdvUOkeNPijJ"
      },
      "source": [
        "\n",
        "\n",
        "def Paint_Q(List, VV, sizes, N, ax):\n",
        "    Vx= VV[:N]\n",
        "    Vy= VV[N:]\n",
        "    for i in List:\n",
        "        Paint_q(Vx[i],Vy[i],sizes[i], ax)\n",
        "    \n",
        "\n",
        "def Paint_q(vx,vy,s, ax):\n",
        "    Path = mpath.Path\n",
        "    #print(vx,vy)\n",
        "    path_data = [\n",
        "        (Path.MOVETO, (vx, vy)),\n",
        "        (Path.LINETO, (vx, vy+s[1])),\n",
        "        (Path.LINETO, (vx+s[0], vy+s[1])),\n",
        "        (Path.LINETO, (vx+s[0], vy)),\n",
        "        (Path.LINETO, (vx, vy)),\n",
        "        (Path.CLOSEPOLY, (vx, vy)),\n",
        "        ]\n",
        "    codes, verts = zip(*path_data)\n",
        "    path = mpath.Path(verts, codes)\n",
        "    patch = mpatches.PathPatch(path, facecolor='b', alpha=0.5)\n",
        "    ax.add_patch(patch)\n",
        "    ax.axis('equal')\n",
        "\n",
        "\n"
      ],
      "execution_count": 17,
      "outputs": []
    },
    {
      "cell_type": "markdown",
      "metadata": {
        "id": "cr3MoyWCPyvr"
      },
      "source": [
        "Valida que cada esquina del rectangulo o cuadrado esten dentro de la region factible para asegurar que toda su area este dentro de los limites establecidos en el problema."
      ]
    },
    {
      "cell_type": "code",
      "metadata": {
        "id": "AvbmrUaoQzTX"
      },
      "source": [
        "\n",
        "def Into(P):\n",
        "    distances = [math.sqrt((x-P[0])**2+ (y-P[1])**2) for (x,y) in points]\n",
        "    num = list(zip(distances, range(len(distances))))\n",
        "    num.sort()\n",
        "    (x,y) =(num[0][1], num[1][1])\n",
        "    #print(x,y, P)\n",
        "    if P[1]<-16.3 or P[1]>319.1:\n",
        "        return False\n",
        "      \n",
        "    if (x,y)==(1,2) or (x,y)==(2,1):\n",
        "        x1= -P[1]/3.08219 +871.9876/3.08219\n",
        "        if P[0]<x1:\n",
        "            return False\n",
        "    elif (x,y)==(2,3) or (x,y)==(3,2):\n",
        "        x1= (P[1]+378609/1910)* 191/139\n",
        "        if P[0]<x1:\n",
        "            return False\n",
        "    \n",
        "    elif (x,y)==(3,4) or (x,y)==(4,3):\n",
        "        x1= (P[1]-455391/1910)* (-191/139)\n",
        "        if P[0]>x1:\n",
        "            return False\n",
        "        \n",
        "    elif (x,y)== (4,0) or (x,y)==(0,4):\n",
        "        x1= (P[1]+713449/730)* (73/225)\n",
        "        if P[0]>x1 or P[0]<-16.3:\n",
        "            return False\n",
        "    elif (x,y)==(0,1) or (y,x)==(1,0) and P[0]<-16.3:\n",
        "        return False\n",
        "         \n",
        "    else:\n",
        "        return True\n",
        "    return True\n"
      ],
      "execution_count": 18,
      "outputs": []
    },
    {
      "cell_type": "markdown",
      "metadata": {
        "id": "9YPzk5i6QNpk"
      },
      "source": [
        "Elimina a las figuras con interposiciones."
      ]
    },
    {
      "cell_type": "code",
      "metadata": {
        "id": "CB4OXC-MQJbI"
      },
      "source": [
        "\n",
        "\n",
        "def Inter(Vx, Vy, index, sizes):\n",
        "    X=[(Vx[i],i) for i in index]+[(Vx[i]+sizes[i][0],i) for i in index]\n",
        "    X.sort()\n",
        "    L= np.array(X)[:,1]\n",
        "    L_ind= set(range(len(L)))\n",
        "    no_val=[]\n",
        "    Total = []\n",
        "    for i in range(len(L)):\n",
        "        if i in L_ind and not( L[i] in no_val):\n",
        "            \n",
        "            l=L[i]\n",
        "            j=i+1\n",
        "            while  L[j]!=l:\n",
        "                j+=1\n",
        "            L_ind= L_ind-set([j])\n",
        "           \n",
        "            f= int(L[i])\n",
        "            index_y= list(map(int, list(set(L[i+1:j]))))\n",
        "            F = InterY(f, index_y,Vy, sizes)\n",
        "            if F==[]:\n",
        "                Total.append(L[i])\n",
        "            else:\n",
        "                no_val.extend(F)\n",
        "           \n",
        "    return list(map(int,Total))\n",
        "            \n",
        "            \n",
        "            \n",
        "\n",
        "def InterY(f, index_y,Vy, sizes):\n",
        "    if index_y==[]:\n",
        "        return []\n",
        "    index_y.append(f)\n",
        "    Y = [(Vy[k],k) for k in index_y]+[(Vy[k]+sizes[k][1],k) for k in index_y]\n",
        "    Y.sort()\n",
        "    \n",
        "    L_y= [y[1] for y in Y]\n",
        "    lim1 = L_y.index(f)\n",
        "    lim2=  L_y[lim1+1:].index(f)+lim1+1\n",
        "    J=  L_y[lim1+1: lim2]\n",
        "    if J==[] and lim1>1:\n",
        "       K=[]\n",
        "       for h in L_y[:lim1]:\n",
        "            lim1 = L_y.index(h)\n",
        "            lim2=  L_y[lim1+1:].index(h)+lim1+1\n",
        "            if f in L_y[lim1+1: lim2]:\n",
        "                K.append(h)\n",
        "       return K\n",
        "    else:\n",
        "        return  L_y[lim1+1: lim2]\n",
        "        \n",
        "          "
      ],
      "execution_count": 20,
      "outputs": []
    },
    {
      "cell_type": "markdown",
      "metadata": {
        "id": "szOGOESuQcgD"
      },
      "source": [
        "Calculo del valor de aptitud. Area total cubierta por los rectangulos."
      ]
    },
    {
      "cell_type": "code",
      "metadata": {
        "id": "WLo9svJ3LVP-"
      },
      "source": [
        "\n",
        "def Fitness(VV, sizes, N):\n",
        "    Vx= VV[:N]\n",
        "    Vy= VV[N:]\n",
        "    index= []\n",
        "    for i, vx, vy in zip(range(N), Vx, Vy):\n",
        "        V= [vx, vy]\n",
        "        #print(V)\n",
        "        if Into(V)==True:\n",
        "            p = sizes[i]\n",
        "            one= [V[0]+p[0], V[1]]\n",
        "            second= [V[0], V[1]+p[1]]\n",
        "            third=[V[0]+p[0], V[1]+p[1]]\n",
        "            c=0\n",
        "            \n",
        "            for v in [one, second, third]:\n",
        "                if Into(v)== False:\n",
        "                    break\n",
        "                else:\n",
        "                    c+=1\n",
        "            if c==3:\n",
        "                index.append(i)\n",
        "       \n",
        "    \n",
        "    F= Inter(Vx, Vy, index, sizes)\n",
        "    a= Area(F, sizes)\n",
        "    #print(a)\n",
        "    return a, F\n",
        "    \n",
        "    \n",
        "    \n",
        "def Area(List, sizes):\n",
        "   A= [sizes[i][0]*sizes[i][1] for i in List]\n",
        "   return sum(A)\n",
        "\n"
      ],
      "execution_count": 19,
      "outputs": []
    },
    {
      "cell_type": "markdown",
      "metadata": {
        "id": "URyUZFZ-S8tU"
      },
      "source": [
        "**Algoritmo Genetico**"
      ]
    },
    {
      "cell_type": "markdown",
      "metadata": {
        "id": "gToZgoUFRxFs"
      },
      "source": [
        "Parametros: numero de articulos, maximos y minimos permitidos para definir las posiciones de las esquinas izquierdas inferiores de cada rectangulo. "
      ]
    },
    {
      "cell_type": "code",
      "metadata": {
        "id": "gz57u5xHTE2z"
      },
      "source": [
        "Nitem = 50\n",
        "\n",
        "Min= [280.9]*Nitem+[-16.3]*Nitem\n",
        "Max= [319.1]*Nitem+[ 20.1]*Nitem\n",
        "\n"
      ],
      "execution_count": 21,
      "outputs": []
    },
    {
      "cell_type": "markdown",
      "metadata": {
        "id": "FEtPyTvvTEMs"
      },
      "source": [
        "Crear funciones con Deap para PSO"
      ]
    },
    {
      "cell_type": "code",
      "metadata": {
        "colab": {
          "base_uri": "https://localhost:8080/"
        },
        "id": "pbxjnqRmTNv7",
        "outputId": "4591498c-86a7-467a-a66b-a2cc888a736f"
      },
      "source": [
        "\n",
        "\n",
        "creator.create(\"FitnessMax\", base.Fitness, weights=(1.0,))\n",
        "creator.create(\"Particle\", list, fitness=creator.FitnessMax, speed=list, \n",
        "    smin=None, smax=None, best=None, elements=list)\n",
        "\n",
        "def generate(size, pmin, pmax, smin, smax):\n",
        "    part = creator.Particle(random.uniform(pmin[i], pmax[i]) for i in range(2*size)) \n",
        "    part.speed = [random.uniform(smin, smax) for _ in range(2*size)]\n",
        "    part.smin = smin\n",
        "    part.smax = smax\n",
        "    return part\n",
        "\n",
        "\n",
        "\n",
        "def updateParticle(part, best, phi1, phi2):\n",
        "    #Genera dos vectores aleatorios con la misma longitud que la particula\n",
        "    \n",
        "    u1 = list(random.uniform(0, phi1) for _ in range(len(part)))\n",
        "    u2 = list(random.uniform(0, phi2) for _ in range(len(part)))\n",
        "    \n",
        "    #Calcular nuevos factores de aprendizaje\n",
        "    #v_u1=u1*(part.best-part)  part.best mejor valor de la particula\n",
        "    v_u1 = map(operator.mul, u1, map(operator.sub, part.best, part))\n",
        "    #v_u2=u2*(part.best-part)  part.best mejor valor a nivel global\n",
        "    v_u2 = map(operator.mul, u2, map(operator.sub, best, part))\n",
        "    #v(t)= v_u1+v_u2+ v(t-1)\n",
        "    part.speed = list(map(operator.add, part.speed, map(operator.add, v_u1, v_u2)))\n",
        "    \n",
        "    \n",
        "    for i, speed in enumerate(part.speed):\n",
        "        \n",
        "        if abs(speed) < part.smin:\n",
        "            part.speed[i] = math.copysign(part.smin, speed)\n",
        "            #copia psrt.smin cambiando su signo original por el de speed\n",
        "        elif abs(speed) > part.smax:\n",
        "            part.speed[i] = math.copysign(part.smax, speed)\n",
        "        \n",
        "    #Actualizar particula\n",
        "    part[:] = list(map(operator.add, part, part.speed))\n",
        "\n",
        "toolbox = base.Toolbox()\n",
        "toolbox.register(\"particle\", generate, size=Nitem, pmin=Max, pmax=Min, smin=-1, smax=1)\n",
        "toolbox.register(\"population\", tools.initRepeat, list, toolbox.particle)\n",
        "toolbox.register(\"update\", updateParticle, phi1=2, phi2=2)\n",
        "toolbox.register(\"evaluate\", Fitness)\n",
        "\n"
      ],
      "execution_count": 22,
      "outputs": [
        {
          "output_type": "stream",
          "text": [
            "/usr/local/lib/python3.7/dist-packages/deap/creator.py:141: RuntimeWarning: A class named 'FitnessMax' has already been created and it will be overwritten. Consider deleting previous creation of that class or rename it.\n",
            "  RuntimeWarning)\n",
            "/usr/local/lib/python3.7/dist-packages/deap/creator.py:141: RuntimeWarning: A class named 'Particle' has already been created and it will be overwritten. Consider deleting previous creation of that class or rename it.\n",
            "  RuntimeWarning)\n"
          ],
          "name": "stderr"
        }
      ]
    },
    {
      "cell_type": "markdown",
      "metadata": {
        "id": "-SZIYruSTWuD"
      },
      "source": [
        "Estructura general de PSO"
      ]
    },
    {
      "cell_type": "code",
      "metadata": {
        "id": "KsK8f4WZTdDe"
      },
      "source": [
        "\n",
        "#Problema de maximizacion enfoque global.\n",
        "def main(Pops, sizes):\n",
        "    pop = toolbox.population(n=Pops)\n",
        "    GEN = 50\n",
        "    best = None\n",
        "    \n",
        "    for g in range(GEN):\n",
        "        print(g)\n",
        "        for part in pop:\n",
        "            apt, lis= Fitness(part, sizes, Nitem)\n",
        "            part.fitness.values =(apt,)\n",
        "            part.elements= lis\n",
        "            \n",
        "            if not part.best or part.best.fitness < part.fitness:\n",
        "                part.best = creator.Particle(part)\n",
        "                part.best.fitness.values = part.fitness.values\n",
        "                part.best.elements = part.elements\n",
        "                #Si la particula no tiene un mejor valor encontrado o si el mejor valor encontrado  es menor al  actual, entonces este es actualizado.\n",
        "            if not best or best.fitness < part.fitness:\n",
        "                best = creator.Particle(part)\n",
        "                best.fitness.values = part.fitness.values\n",
        "                best.elements = part.elements\n",
        "            #Si no hay ningun vector mejor o hay un vector que tiene mejores valores que el que se considera ser mejor, entonces se actualiza.\n",
        "        #print(best.fitness.values, best.elements)\n",
        "        for part in pop:\n",
        "            toolbox.update(part, best)\n",
        "            \n",
        "        xx,yy=Fitness(best, sizes, Nitem)\n",
        "        print(g, xx, len(yy))\n",
        "       \n",
        "    fig, ax = plt.subplots()\n",
        "    Paint(ax)\n",
        "    print(\"=\"*20)\n",
        "    Paint_Q( best.elements, best, sizes, Nitem,ax)\n",
        "    xx,yy=Fitness(best, sizes, Nitem)\n",
        "    print(g, xx, len(yy))\n",
        "    plt.title(\"Generation: \"+ str(g+1) +   \"    Area: \"+ str(xx), size= 20)\n",
        "    plt.xticks([])\n",
        "    plt.yticks([])\n",
        "    plt.show()\n",
        "   \n",
        "    return pop, best\n",
        "\n"
      ],
      "execution_count": 23,
      "outputs": []
    },
    {
      "cell_type": "markdown",
      "metadata": {
        "id": "SI-KVSfZTgKS"
      },
      "source": [
        "Main para ejecuta el programa con una semilla en cero."
      ]
    },
    {
      "cell_type": "code",
      "metadata": {
        "colab": {
          "base_uri": "https://localhost:8080/",
          "height": 1000
        },
        "id": "srUwmwvZN6cF",
        "outputId": "0e764257-22ea-4100-fb4e-3d1a6b0194cb"
      },
      "source": [
        "\n",
        "\n",
        "if __name__ == \"__main__\":\n",
        "    random.seed(0)\n",
        "    PopS = 100\n",
        "    sizes = [[random.randrange(1, 6),random.randrange(1,6)] for _ in range(Nitem)]\n",
        "\n",
        "    main(PopS, sizes)"
      ],
      "execution_count": 24,
      "outputs": [
        {
          "output_type": "stream",
          "text": [
            "0\n",
            "0 121 12\n",
            "1\n",
            "1 121 12\n",
            "2\n",
            "2 121 12\n",
            "3\n",
            "3 121 12\n",
            "4\n",
            "4 121 12\n",
            "5\n",
            "5 121 12\n",
            "6\n",
            "6 121 12\n",
            "7\n",
            "7 121 12\n",
            "8\n",
            "8 121 12\n",
            "9\n",
            "9 121 12\n",
            "10\n",
            "10 121 12\n",
            "11\n",
            "11 121 12\n",
            "12\n",
            "12 121 12\n",
            "13\n",
            "13 121 12\n",
            "14\n",
            "14 121 12\n",
            "15\n",
            "15 121 12\n",
            "16\n",
            "16 121 12\n",
            "17\n",
            "17 121 12\n",
            "18\n",
            "18 121 12\n",
            "19\n",
            "19 121 12\n",
            "20\n",
            "20 121 12\n",
            "21\n",
            "21 121 12\n",
            "22\n",
            "22 121 12\n",
            "23\n",
            "23 121 12\n",
            "24\n",
            "24 121 12\n",
            "25\n",
            "25 121 12\n",
            "26\n",
            "26 121 12\n",
            "27\n",
            "27 121 12\n",
            "28\n",
            "28 121 12\n",
            "29\n",
            "29 121 12\n",
            "30\n",
            "30 158 14\n",
            "31\n",
            "31 158 14\n",
            "32\n",
            "32 158 14\n",
            "33\n",
            "33 158 14\n",
            "34\n",
            "34 158 14\n",
            "35\n",
            "35 158 14\n",
            "36\n",
            "36 158 14\n",
            "37\n",
            "37 158 14\n",
            "38\n",
            "38 158 14\n",
            "39\n",
            "39 158 14\n",
            "40\n",
            "40 158 14\n",
            "41\n",
            "41 158 14\n",
            "42\n",
            "42 161 16\n",
            "43\n",
            "43 161 16\n",
            "44\n",
            "44 161 16\n",
            "45\n",
            "45 161 16\n",
            "46\n",
            "46 176 17\n",
            "47\n",
            "47 176 17\n",
            "48\n",
            "48 176 17\n",
            "49\n",
            "49 176 17\n",
            "====================\n",
            "49 176 17\n"
          ],
          "name": "stdout"
        },
        {
          "output_type": "display_data",
          "data": {
            "image/png": "[encoded data removed]",
            "text/plain": [
              "<Figure size 432x288 with 1 Axes>"
            ]
          },
          "metadata": {
            "tags": []
          }
        }
      ]
    }
  ]
}